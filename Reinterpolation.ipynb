{
 "cells": [
  {
   "cell_type": "code",
   "execution_count": 1,
   "id": "210d8785",
   "metadata": {},
   "outputs": [],
   "source": [
    "import pandas as pd\n",
    "import numpy as np\n",
    "import matplotlib.pyplot as plt\n",
    "import scipy.interpolate\n",
    "import netCDF4 as nc\n",
    "import xarray as xr\n",
    "import scipy.ndimage\n",
    "import scipy as sp\n",
    "import alphashape\n",
    "from scipy import interpolate\n",
    "from shapely.geometry import Point\n",
    "from shapely.geometry.polygon import Polygon\n",
    "from matplotlib import style\n",
    "style.use('ggplot') or plt.style.use('ggplot')\n"
   ]
  },
  {
   "cell_type": "code",
   "execution_count": 2,
   "id": "d8d49caa",
   "metadata": {},
   "outputs": [],
   "source": [
    "# Read in radar data\n",
    "\n",
    "DerwaelData = pd.read_csv('../Data/IceRiseClara_xyH.txt', delimiter=\" \")\n"
   ]
  },
  {
   "cell_type": "code",
   "execution_count": 3,
   "id": "6458542c",
   "metadata": {},
   "outputs": [],
   "source": [
    "# Read in the unchanged netcdf file\n",
    "\n",
    "ds = nc.Dataset('/Users/clara.henry/Documents/Derwael/Code/DerwaelBCs.nc')\n",
    "bedrock_old = np.array(ds.variables['bedrock'][:])\n",
    "upper_surface_old = np.array(ds.variables['zs0'][:])\n",
    "lower_surface_old = np.array(ds.variables['zb0'][:])\n",
    "X = np.array(ds.variables['x'][:])\n",
    "Y = np.array(ds.variables['y'][:])\n"
   ]
  },
  {
   "cell_type": "code",
   "execution_count": 4,
   "id": "be866ff3",
   "metadata": {},
   "outputs": [
    {
     "name": "stderr",
     "output_type": "stream",
     "text": [
      "/Users/clara.henry/opt/anaconda3/lib/python3.9/site-packages/shapely/ops.py:42: ShapelyDeprecationWarning: Iteration over multi-part geometries is deprecated and will be removed in Shapely 2.0. Use the `geoms` property to access the constituent parts of a multi-part geometry.\n",
      "  source = iter(source)\n",
      "/Users/clara.henry/opt/anaconda3/lib/python3.9/site-packages/alphashape/optimizealpha.py:41: ShapelyDeprecationWarning: Iteration over multi-part geometries is deprecated and will be removed in Shapely 2.0. Use the `geoms` property to access the constituent parts of a multi-part geometry.\n",
      "  return all([polygon.intersects(point) for point in points])\n"
     ]
    }
   ],
   "source": [
    "# Read in grounding line and make polygon\n",
    "\n",
    "dfGL = pd.read_csv(\"/Users/clara.henry/Documents/Derwael/Data/GroundingLine.csv\")\n",
    "points = np.column_stack((list(dfGL[\"Points:0\"])[::10], list(dfGL[\"Points:1\"])[::10]))\n",
    "alpha = 0.95 * alphashape.optimizealpha(points)\n",
    "hull = alphashape.alphashape(points, alpha)\n",
    "hull_pts = hull.exterior.coords.xy\n",
    "hull_pts = hull_pts\n",
    "\n",
    "for i in range(len(hull_pts[0])):\n",
    "    hull_pts[0][i] = hull_pts[0][i]\n",
    "    hull_pts[1][i] = hull_pts[1][i]\n"
   ]
  },
  {
   "cell_type": "code",
   "execution_count": 5,
   "id": "fbb43d4c",
   "metadata": {},
   "outputs": [],
   "source": [
    "# Convert hull to a dataframe\n",
    "\n",
    "GL_x = hull_pts[0].tolist()\n",
    "GL_y = hull_pts[1].tolist()\n",
    "\n",
    "df_hull = pd.DataFrame(\n",
    "    {'X': GL_x,\n",
    "     'Y': GL_y\n",
    "    })\n"
   ]
  },
  {
   "cell_type": "code",
   "execution_count": 6,
   "id": "36d0ae22",
   "metadata": {},
   "outputs": [],
   "source": [
    "# Flip arrays\n",
    "\n",
    "bedrock_old = np.flipud(bedrock_old)\n",
    "upper_surface_old = np.flipud(upper_surface_old)\n",
    "lower_surface_old = np.flipud(lower_surface_old)\n",
    "Y = Y[::-1]"
   ]
  },
  {
   "cell_type": "code",
   "execution_count": 7,
   "id": "bbea5111",
   "metadata": {},
   "outputs": [],
   "source": [
    "# Choose the points for interpolation\n",
    "\n",
    "Index1 = 98283\n",
    "Index2 = 112348\n",
    "Index3 = 99635\n",
    "\n",
    "# Derive the equations for generating the arc of data\n",
    "\n",
    "m1 = (DerwaelData[\"Y\"][Index2] - DerwaelData[\"Y\"][Index1])/(DerwaelData[\"X\"][Index2] - DerwaelData[\"X\"][Index1])\n",
    "\n",
    "# Line between the two points:\n",
    "\n",
    "def line1(x):\n",
    "    return m1 * ( x - DerwaelData[\"X\"][Index1]) + DerwaelData[\"Y\"][Index1]\n",
    "\n",
    "# Find midpoint\n",
    "\n",
    "xm = (DerwaelData[\"X\"][Index1] + DerwaelData[\"X\"][Index2])/2.0\n",
    "ym = (DerwaelData[\"Y\"][Index1] + DerwaelData[\"Y\"][Index2])/2.0\n",
    "\n",
    "m2 = -1.0 / m1\n",
    "\n",
    "def line2(x):\n",
    "    return m2 * ( x - xm) + ym\n",
    "\n",
    "ArcCentre_x, ArcCentre_y = 0.969e6, line2(0.969e6)\n",
    "\n",
    "# Calculate the arc radius\n",
    "\n",
    "rad = np.sqrt((ArcCentre_x - DerwaelData[\"X\"][Index1])**2 + (ArcCentre_y - DerwaelData[\"Y\"][Index1])**2)\n",
    "\n",
    "# Define the circle equation (note: only need the positive sqrt here)\n",
    "\n",
    "def Circle(coord, with_x):\n",
    "    if with_x == True:\n",
    "        return ArcCentre_y + np.sqrt(rad**2 - (coord- ArcCentre_x)**2)\n",
    "    elif with_x == False:\n",
    "        return ArcCentre_x + np.sqrt(rad**2 - (coord- ArcCentre_y)**2)\n",
    "\n",
    "# Generate coordinates along the arc\n",
    "\n",
    "Xarc1 = []\n",
    "Yarc1 = []\n",
    "Harc1 = []\n",
    "\n",
    "for x in np.arange(DerwaelData[\"X\"][Index1], DerwaelData[\"X\"][Index2], 100):\n",
    "    Xarc1.append(x)\n",
    "    Yarc1.append(Circle(x, True))\n",
    "    \n",
    "# Generate heights along arc 1\n",
    "\n",
    "mH1 = (DerwaelData[\"H\"][Index2] - DerwaelData[\"H\"][Index1])/(DerwaelData[\"X\"][Index2] - DerwaelData[\"X\"][Index1])\n",
    "\n",
    "def Height(x):\n",
    "    return DerwaelData[\"H\"][Index1] + mH1 * (x - DerwaelData[\"X\"][Index1])\n",
    "\n",
    "for x in np.arange(DerwaelData[\"X\"][Index1], DerwaelData[\"X\"][Index2], 100):\n",
    "    Harc1.append(Height(x))\n",
    "\n",
    "# Generate heights along arc 2 (generate using y this time)\n",
    "\n",
    "Xarc2 = []\n",
    "Yarc2 = []\n",
    "Harc2 = []\n",
    "\n",
    "for y in np.arange(DerwaelData[\"Y\"][Index3], DerwaelData[\"Y\"][Index2], 100):\n",
    "    Yarc2.append(y)\n",
    "    Xarc2.append(Circle(y, False))\n",
    "    \n",
    "mH2 = (DerwaelData[\"H\"][Index2] - DerwaelData[\"H\"][Index3])/(DerwaelData[\"Y\"][Index2] - DerwaelData[\"Y\"][Index3])\n",
    "\n",
    "for y in np.arange(DerwaelData[\"Y\"][Index3], DerwaelData[\"Y\"][Index2], 100):\n",
    "    Harc2.append(Height(x))\n",
    "    "
   ]
  },
  {
   "cell_type": "code",
   "execution_count": 8,
   "id": "528aeda3",
   "metadata": {},
   "outputs": [
    {
     "name": "stderr",
     "output_type": "stream",
     "text": [
      "/var/folders/7m/lgqxn0610bs8sxwnf4k6z_hw0000gn/T/ipykernel_9387/1885566515.py:7: FutureWarning: The frame.append method is deprecated and will be removed from pandas in a future version. Use pandas.concat instead.\n",
      "  DerwaelData = DerwaelData.append(GeneratedData1, ignore_index = True)\n"
     ]
    }
   ],
   "source": [
    "# Make a dataframe of the new data\n",
    "\n",
    "ListedData1 = {'X': Xarc1, 'Y': Yarc1, 'H': Harc1}\n",
    "ListedData2 = {'X': Xarc2, 'Y': Yarc2, 'H': Harc2}\n",
    "GeneratedData1 = pd.DataFrame(data=ListedData1)\n",
    "GeneratedData2 = pd.DataFrame(data=ListedData2)\n",
    "DerwaelData = DerwaelData.append(GeneratedData1, ignore_index = True)\n",
    "#DerwaelData = DerwaelData.append(GeneratedData2, ignore_index = True)\n"
   ]
  },
  {
   "cell_type": "code",
   "execution_count": 9,
   "id": "ec39481e",
   "metadata": {},
   "outputs": [
    {
     "name": "stderr",
     "output_type": "stream",
     "text": [
      "/var/folders/7m/lgqxn0610bs8sxwnf4k6z_hw0000gn/T/ipykernel_9387/854014285.py:9: SettingWithCopyWarning: \n",
      "A value is trying to be set on a copy of a slice from a DataFrame\n",
      "\n",
      "See the caveats in the documentation: https://pandas.pydata.org/pandas-docs/stable/user_guide/indexing.html#returning-a-view-versus-a-copy\n",
      "  DerwaelData['zs'][i] = f(DerwaelData['X'][i], DerwaelData['Y'][i])\n"
     ]
    }
   ],
   "source": [
    "# Interpolate data and apply subtraction\n",
    "\n",
    "DerwaelData['zs'] = 0\n",
    "DerwaelData['zb'] = 0\n",
    "\n",
    "f = interpolate.interp2d(X, Y, upper_surface_old, kind='linear')\n",
    "\n",
    "for i in range(len(DerwaelData)):\n",
    "    DerwaelData['zs'][i] = f(DerwaelData['X'][i], DerwaelData['Y'][i])\n",
    "\n",
    "DerwaelData['zb'] = DerwaelData['zs'] - DerwaelData['H']\n",
    "\n",
    "# Create the grid space\n",
    "\n",
    "x = np.linspace(920500.0, 998000.0, 156)\n",
    "y = np.linspace(1880000.0, 1966000.0, 173)\n",
    "grid_x, grid_y = np.mgrid[920500.0:998000.0:156j, 1880000.0:1966000.0:173j]\n",
    "thickness = scipy.interpolate.griddata((DerwaelData[\"X\"], DerwaelData[\"Y\"]), DerwaelData[\"H\"], (grid_x, grid_y), method='linear')\n",
    "\n",
    "lowersurface = upper_surface_old - thickness.T\n"
   ]
  },
  {
   "cell_type": "code",
   "execution_count": 10,
   "id": "af3adceb",
   "metadata": {},
   "outputs": [],
   "source": [
    "# Choose an area to cut out: the grounding line x=9.6e5 and y=1.95e6 \n",
    "# (note: the GL data coords moves anti-clockwise starting in the SW)\n",
    "\n",
    "# Find points that intersect x=9.6e5 and y=1.95e6:\n",
    "\n",
    "x_cut = 9.6e5\n",
    "y_cut = 1.945e6\n",
    "\n",
    "for i in range(len(df_hull)):\n",
    "    if df_hull['X'][i] > x_cut:\n",
    "        pass\n",
    "    else:\n",
    "        break\n",
    "\n",
    "i_n = i\n",
    "\n",
    "for i in range(i_n + 1, len(df_hull)):\n",
    "    if df_hull['X'][i] < x_cut:\n",
    "        pass\n",
    "    else:\n",
    "        break\n",
    "\n",
    "GL_x_cut_index = i\n",
    "        \n",
    "for i in range(len(df_hull)):\n",
    "    if df_hull['Y'][i] < y_cut:\n",
    "        pass\n",
    "    else:\n",
    "        break\n",
    "\n",
    "i_n = i\n",
    "\n",
    "for i in range(i_n + 1, len(df_hull)):\n",
    "    if df_hull['Y'][i] > y_cut:\n",
    "        pass\n",
    "    else:\n",
    "        break\n",
    "\n",
    "GL_y_cut_index = i\n"
   ]
  },
  {
   "cell_type": "code",
   "execution_count": 11,
   "id": "6a8ef2d2",
   "metadata": {},
   "outputs": [
    {
     "name": "stderr",
     "output_type": "stream",
     "text": [
      "/var/folders/7m/lgqxn0610bs8sxwnf4k6z_hw0000gn/T/ipykernel_9387/3562679844.py:7: FutureWarning: The frame.append method is deprecated and will be removed from pandas in a future version. Use pandas.concat instead.\n",
      "  df_hull_subset = df_hull_subset.append(ECdf, ignore_index = True)\n"
     ]
    }
   ],
   "source": [
    "# Create a dataframe of the hull points of interest\n",
    "\n",
    "df_hull_subset = df_hull[GL_x_cut_index:GL_y_cut_index]\n",
    "\n",
    "ExtraCoords = {'X': [df_hull[\"X\"][GL_y_cut_index], x_cut, x_cut], 'Y':[y_cut, y_cut, df_hull[\"Y\"][GL_x_cut_index]]}\n",
    "ECdf = pd.DataFrame(data=ExtraCoords)\n",
    "df_hull_subset = df_hull_subset.append(ECdf, ignore_index = True)\n"
   ]
  },
  {
   "cell_type": "code",
   "execution_count": 12,
   "id": "68333f69",
   "metadata": {},
   "outputs": [
    {
     "name": "stderr",
     "output_type": "stream",
     "text": [
      "/Users/clara.henry/opt/anaconda3/lib/python3.9/site-packages/shapely/ops.py:42: ShapelyDeprecationWarning: Iteration over multi-part geometries is deprecated and will be removed in Shapely 2.0. Use the `geoms` property to access the constituent parts of a multi-part geometry.\n",
      "  source = iter(source)\n",
      "/Users/clara.henry/opt/anaconda3/lib/python3.9/site-packages/alphashape/optimizealpha.py:41: ShapelyDeprecationWarning: Iteration over multi-part geometries is deprecated and will be removed in Shapely 2.0. Use the `geoms` property to access the constituent parts of a multi-part geometry.\n",
      "  return all([polygon.intersects(point) for point in points])\n"
     ]
    }
   ],
   "source": [
    "# Create a hull out of the new subset\n",
    "\n",
    "points_sub = np.column_stack((list(df_hull_subset[\"X\"]), list(df_hull_subset[\"Y\"])))\n",
    "alpha_sub = 0.8 * alphashape.optimizealpha(points_sub)\n",
    "hull_sub = alphashape.alphashape(points_sub, alpha_sub)\n",
    "hull_pts_sub = hull_sub.exterior.coords.xy\n",
    "\n",
    "hull_pts_sub = hull_pts_sub\n",
    "\n",
    "for i in range(len(hull_pts_sub[0])):\n",
    "    hull_pts_sub[0][i] = hull_pts_sub[0][i]\n",
    "    hull_pts_sub[1][i] = hull_pts_sub[1][i]\n",
    "\n",
    "poly_sub = Polygon(zip(list(hull_pts_sub[0]), list(hull_pts_sub[1])))\n"
   ]
  },
  {
   "cell_type": "code",
   "execution_count": 13,
   "id": "883e2a43",
   "metadata": {},
   "outputs": [],
   "source": [
    "lowersurface = lowersurface.T"
   ]
  },
  {
   "cell_type": "code",
   "execution_count": 14,
   "id": "b6fa2bf1",
   "metadata": {},
   "outputs": [],
   "source": [
    "# Set everything outside the poygon to NaN\n",
    "\n",
    "for i in range(len(x)):\n",
    "    for j in range(len(y)):\n",
    "        boolean = poly_sub.contains(Point(x[i], y[j]))\n",
    "        if boolean == False:\n",
    "            lowersurface[i][j] = \"nan\"\n"
   ]
  },
  {
   "cell_type": "code",
   "execution_count": 15,
   "id": "b00e5def",
   "metadata": {},
   "outputs": [
    {
     "data": {
      "text/plain": [
       "(1920000.0, 1980000.0)"
      ]
     },
     "execution_count": 15,
     "metadata": {},
     "output_type": "execute_result"
    },
    {
     "data": {
      "image/png": "[encoded data removed]",
      "text/plain": [
       "<Figure size 432x288 with 1 Axes>"
      ]
     },
     "metadata": {},
     "output_type": "display_data"
    }
   ],
   "source": [
    "# Plot the data\n",
    "\n",
    "x_cut = 502\n",
    "\n",
    "fig, ax = plt.subplots(1, 1)\n",
    "ax.scatter(DerwaelData[\"X\"], DerwaelData[\"Y\"], c='black', s=1) \n",
    "ax.plot(hull_pts_sub[0], hull_pts_sub[1], color='black')\n",
    "ax.set_xlim(0.93e6,0.99e6)\n",
    "ax.set_ylim(1.92e6,1.98e6)\n",
    "\n"
   ]
  },
  {
   "cell_type": "code",
   "execution_count": 16,
   "id": "9a0b38b6",
   "metadata": {},
   "outputs": [
    {
     "name": "stderr",
     "output_type": "stream",
     "text": [
      "/var/folders/7m/lgqxn0610bs8sxwnf4k6z_hw0000gn/T/ipykernel_9387/4149489416.py:8: MatplotlibDeprecationWarning: Auto-removal of grids by pcolor() and pcolormesh() is deprecated since 3.5 and will be removed two minor releases later; please call grid(False) first.\n",
      "  cbar = fig.colorbar(CS)\n"
     ]
    },
    {
     "data": {
      "image/png": "[encoded data removed]",
      "text/plain": [
       "<Figure size 432x288 with 2 Axes>"
      ]
     },
     "metadata": {},
     "output_type": "display_data"
    }
   ],
   "source": [
    "# Plot interpolated data with generated data\n",
    "\n",
    "fig, ax = plt.subplots(1, 1)\n",
    "CS = ax.contourf(grid_x, grid_y, lowersurface, levels=50, vmin=-200, vmax=-30)\n",
    "ax.scatter(DerwaelData[\"X\"], DerwaelData[\"Y\"], c='black', s=1) \n",
    "ax.set_xlim(0.925e6,0.99e6)\n",
    "ax.set_ylim(1.9e6,1.97e6)\n",
    "cbar = fig.colorbar(CS)\n"
   ]
  },
  {
   "cell_type": "code",
   "execution_count": 21,
   "id": "4a5ec99f",
   "metadata": {},
   "outputs": [],
   "source": [
    "# Export as a netcdf file\n",
    "\n",
    "lowersurface = np.flipud(lowersurface)\n",
    "\n",
    "lower_bed_sub = xr.DataArray(\n",
    "    data=lowersurface.T,\n",
    "    dims=['y', 'x'],\n",
    "    coords=dict(\n",
    "        x=X,\n",
    "        y=Y\n",
    "    \n",
    "    )\n",
    ")\n",
    "\n",
    "lower_bed_sub.to_netcdf('DerwaelFixedInterpolation.nc')\n"
   ]
  },
  {
   "cell_type": "code",
   "execution_count": null,
   "id": "e76a9f43",
   "metadata": {},
   "outputs": [],
   "source": []
  },
  {
   "cell_type": "code",
   "execution_count": null,
   "id": "d328bf1a",
   "metadata": {},
   "outputs": [],
   "source": []
  },
  {
   "cell_type": "code",
   "execution_count": null,
   "id": "6c8248fd",
   "metadata": {},
   "outputs": [],
   "source": []
  },
  {
   "cell_type": "code",
   "execution_count": null,
   "id": "3632d156",
   "metadata": {},
   "outputs": [],
   "source": []
  }
 ],
 "metadata": {
  "kernelspec": {
   "display_name": "Python 3 (ipykernel)",
   "language": "python",
   "name": "python3"
  },
  "language_info": {
   "codemirror_mode": {
    "name": "ipython",
    "version": 3
   },
   "file_extension": ".py",
   "mimetype": "text/x-python",
   "name": "python",
   "nbconvert_exporter": "python",
   "pygments_lexer": "ipython3",
   "version": "3.9.13"
  }
 },
 "nbformat": 4,
 "nbformat_minor": 5
}
