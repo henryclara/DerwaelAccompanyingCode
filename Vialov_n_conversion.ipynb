{
 "cells": [
  {
   "cell_type": "code",
   "execution_count": 2,
   "id": "4bd60099",
   "metadata": {},
   "outputs": [],
   "source": [
    "import pandas as pd\n",
    "import numpy as np\n",
    "import matplotlib.pyplot as plt\n",
    "import scipy.interpolate\n",
    "import netCDF4 as nc\n",
    "import xarray as xr\n",
    "import scipy.ndimage\n",
    "import scipy as sp\n",
    "import alphashape\n",
    "from scipy import interpolate\n",
    "from shapely.geometry import Point\n",
    "from shapely.geometry.polygon import Polygon\n",
    "from matplotlib import style\n",
    "from pathlib import Path  \n",
    "style.use('ggplot') or plt.style.use('ggplot')\n"
   ]
  },
  {
   "cell_type": "code",
   "execution_count": 33,
   "id": "cc1bbac1",
   "metadata": {},
   "outputs": [],
   "source": [
    "# Defined the constants for n=3\n",
    "\n",
    "acc, A_3, n_3, n_4, rho, g, L = 1.2, 4.6e-25*1e8, 3.0, 4.0, 900.0, 9.81, 6000.0\n",
    "A0_3 = (2.0*A_3*(rho*g)**n_3)/5.0\n",
    "\n",
    "R = np.linspace(0, L, 1001)\n",
    "\n",
    "def Summit(R, z, n, A0):\n",
    "    h0 = (z**((2.0*n + 2.0)/n) + (2.0*(acc/(2.0*A0))**(1.0/n)) * R**((n + 1.0)/n))**(n/(2.0*n + 2.0))\n",
    "    return h0\n",
    "\n",
    "h0_3 = Summit(L, 0, n_3, A0_3)\n",
    "\n",
    "V = 0.0\n",
    "\n",
    "def Height(h0, R, n, A0):\n",
    "    h = (h0**((2.0*n + 2)/n) - (2.0*(acc/(2.0*A0))**(1.0/n))*(R**((n + 1.0)/n)))**(n/(2.0*n + 2.0))\n",
    "    return h\n",
    "\n",
    "for r in range(len(R)-1):\n",
    "    V += Height(h0_3, r, n_3, A0_3) * 6.0\n",
    "\n",
    "\n"
   ]
  },
  {
   "cell_type": "code",
   "execution_count": null,
   "id": "51f5be8b",
   "metadata": {},
   "outputs": [],
   "source": [
    "\n",
    "\n"
   ]
  },
  {
   "cell_type": "code",
   "execution_count": 32,
   "id": "aad691b1",
   "metadata": {},
   "outputs": [],
   "source": [
    "# Invert for the \n",
    "\n"
   ]
  },
  {
   "cell_type": "code",
   "execution_count": null,
   "id": "14671108",
   "metadata": {},
   "outputs": [],
   "source": []
  }
 ],
 "metadata": {
  "kernelspec": {
   "display_name": "Python 3 (ipykernel)",
   "language": "python",
   "name": "python3"
  },
  "language_info": {
   "codemirror_mode": {
    "name": "ipython",
    "version": 3
   },
   "file_extension": ".py",
   "mimetype": "text/x-python",
   "name": "python",
   "nbconvert_exporter": "python",
   "pygments_lexer": "ipython3",
   "version": "3.9.13"
  }
 },
 "nbformat": 4,
 "nbformat_minor": 5
}
