{
 "cells": [
  {
   "cell_type": "code",
   "execution_count": 1,
   "id": "31d035b1",
   "metadata": {},
   "outputs": [],
   "source": [
    "import numpy as np\n",
    "import matplotlib.pyplot as plt\n"
   ]
  },
  {
   "cell_type": "code",
   "execution_count": 6,
   "id": "365833a7",
   "metadata": {},
   "outputs": [],
   "source": [
    "grid_x, grid_y = np.mgrid[-4:3:50j, -3:3:50j]\n",
    "A = 1\n",
    "x_0, y_0 =  0.75,  0\n",
    "x_1, y_1 = -1, -1\n",
    "x_2, y_2 = -1,  1\n",
    "sigma_x, sigma_y = 0.5, 0.5\n",
    "\n",
    "gaussian_2D = A * np.exp(-(((grid_x - x_0)**2 / (2 * sigma_x**2)) \\\n",
    "                         + ((grid_y - y_0)**2 / (2 * sigma_y**2)))) \\\n",
    "            + A * np.exp(-(((grid_x - x_1)**2 / (2 * sigma_x**2)) \\\n",
    "                         + ((grid_y - y_1)**2 / (2 * sigma_y**2)))) \\\n",
    "            + A * np.exp(-(((grid_x - x_2)**2 / (2 * sigma_x**2)) \\\n",
    "                         + ((grid_y - y_2)**2 / (2 * sigma_y**2))))\n",
    "\n"
   ]
  },
  {
   "cell_type": "code",
   "execution_count": 7,
   "id": "e501aada",
   "metadata": {},
   "outputs": [
    {
     "data": {
      "image/png": "[encoded data removed]",
      "text/plain": [
       "<Figure size 432x288 with 2 Axes>"
      ]
     },
     "metadata": {
      "needs_background": "light"
     },
     "output_type": "display_data"
    }
   ],
   "source": [
    "fig, ax = plt.subplots(1, 1)\n",
    "CS = ax.contourf(grid_x, grid_y, gaussian_2D, 5)\n",
    "cbar = fig.colorbar(CS, ticks=[0, 0.2, 0.4, 0.6, 0.8, 1], boundaries=np.linspace(0, 1, 11))\n",
    "cbar.set_label(r'$\\hat{A}$', rotation=0, size=20, labelpad=15)\n",
    "ax.set_xticks([-4, 3])\n",
    "ax.set_yticks([-3, 3])\n",
    "plt.xlabel(r'$\\hat{x}$', size=20)\n",
    "plt.ylabel(r'$\\hat{y}$', size=20)\n",
    "plt.axis('scaled')\n",
    "fig.savefig('GaussianCurves.jpg', format='jpg', dpi=700, bbox_inches = \"tight\")\n",
    "\n"
   ]
  },
  {
   "cell_type": "code",
   "execution_count": null,
   "id": "93c48b35",
   "metadata": {},
   "outputs": [],
   "source": []
  },
  {
   "cell_type": "code",
   "execution_count": null,
   "id": "f140e901",
   "metadata": {},
   "outputs": [],
   "source": []
  },
  {
   "cell_type": "code",
   "execution_count": null,
   "id": "53ba1de3",
   "metadata": {},
   "outputs": [],
   "source": []
  }
 ],
 "metadata": {
  "kernelspec": {
   "display_name": "Python 3 (ipykernel)",
   "language": "python",
   "name": "python3"
  },
  "language_info": {
   "codemirror_mode": {
    "name": "ipython",
    "version": 3
   },
   "file_extension": ".py",
   "mimetype": "text/x-python",
   "name": "python",
   "nbconvert_exporter": "python",
   "pygments_lexer": "ipython3",
   "version": "3.9.13"
  }
 },
 "nbformat": 4,
 "nbformat_minor": 5
}
