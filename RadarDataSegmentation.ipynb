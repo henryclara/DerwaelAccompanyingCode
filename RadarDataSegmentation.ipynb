{
 "cells": [
  {
   "cell_type": "code",
   "execution_count": 2,
   "id": "6b659a49",
   "metadata": {},
   "outputs": [],
   "source": [
    "import pandas as pd\n",
    "import numpy as np\n",
    "import matplotlib.pyplot as plt\n",
    "import scipy.interpolate\n",
    "import netCDF4 as nc\n",
    "#import xarray as xr\n",
    "import scipy.ndimage\n",
    "import scipy as sp\n",
    "#import alphashape\n",
    "from scipy import interpolate\n",
    "#from shapely.geometry import Point\n",
    "#from shapely.geometry.polygon import Polygon\n",
    "from matplotlib import style\n",
    "from pathlib import Path  \n",
    "style.use('ggplot') or plt.style.use('ggplot')"
   ]
  },
  {
   "cell_type": "code",
   "execution_count": 3,
   "id": "895baee1",
   "metadata": {},
   "outputs": [],
   "source": [
    "data = pd.read_csv('../Data/AdjustedRadarStatigraphy/DepthAdjustedStratigraphyElevation.csv', sep=\",\")\n"
   ]
  },
  {
   "cell_type": "code",
   "execution_count": 4,
   "id": "1968a5e8",
   "metadata": {},
   "outputs": [
    {
     "data": {
      "text/plain": [
       "[0, 5200]"
      ]
     },
     "execution_count": 4,
     "metadata": {},
     "output_type": "execute_result"
    }
   ],
   "source": [
    "# Record the corss-section index ranges\n",
    "\n",
    "CSs = {'CS1' : [0, 5200], 'CS2' : [6200, 12000], 'CS3' : [12100, 15500], 'CS4' : [17500, 22700], \\\n",
    "       'CS5' : [25000, 32500], 'CS6' : [32700, 40000], 'CS7' : [41700, 51500]}\n",
    "\n",
    "CSs['CS1']\n"
   ]
  },
  {
   "cell_type": "code",
   "execution_count": 8,
   "id": "5ae5bb5f",
   "metadata": {},
   "outputs": [
    {
     "data": {
      "text/plain": [
       "<matplotlib.collections.PathCollection at 0x1205e5850>"
      ]
     },
     "execution_count": 8,
     "metadata": {},
     "output_type": "execute_result"
    },
    {
     "data": {
      "image/png": "[encoded data removed]",
      "text/plain": [
       "<Figure size 432x288 with 1 Axes>"
      ]
     },
     "metadata": {},
     "output_type": "display_data"
    }
   ],
   "source": [
    "# Plot all coordinates\n",
    "\n",
    "fig, ax = plt.subplots(1,1)\n",
    "ax.scatter(data['psX'], data['psY'])\n",
    "\n",
    "for i in range(1, 7):\n",
    "    ax.scatter(data['psX'][CSs['CS' + str(i)][0]:CSs['CS' + str(i)][1]], data['psY'][CSs['CS' + str(i)][0]:CSs['CS' + str(i)][1]])\n",
    "\n",
    "ax.scatter(data['psX'][CSs['CS7'][0]:CSs['CS7'][1]], data['psY'][CSs['CS7'][0]:CSs['CS7'][1]], color=\"purple\")\n"
   ]
  },
  {
   "cell_type": "code",
   "execution_count": 14,
   "id": "0cf46f51",
   "metadata": {},
   "outputs": [],
   "source": [
    "# Create individual dataframes\n",
    "\n",
    "dfs = {}\n",
    "for i in range(1,8):\n",
    "    dfs['data' + str(i)] = data.iloc[CSs['CS' + str(i)][0]:CSs['CS' + str(i)][1]]\n",
    "    dfs['data' + str(i)] = dfs['data' + str(i)].reset_index()\n"
   ]
  },
  {
   "cell_type": "code",
   "execution_count": 15,
   "id": "9604d98f",
   "metadata": {},
   "outputs": [],
   "source": [
    "# Save all segment dataframes as csvs\n",
    "\n",
    "for i in range(1,8):\n",
    "    filepath = Path('../Data/AdjustedRadarStatigraphy/RadarSegment' + str(i) + '.csv')  \n",
    "    filepath.parent.mkdir(parents=True, exist_ok=True)  \n",
    "    dfs['data' + str(i)].to_csv(filepath, na_rep='NaN', index=False)\n",
    "\n"
   ]
  },
  {
   "cell_type": "code",
   "execution_count": null,
   "id": "e3d45de6",
   "metadata": {},
   "outputs": [],
   "source": []
  },
  {
   "cell_type": "code",
   "execution_count": null,
   "id": "057898df",
   "metadata": {},
   "outputs": [],
   "source": []
  },
  {
   "cell_type": "code",
   "execution_count": null,
   "id": "e4edb9ad",
   "metadata": {},
   "outputs": [],
   "source": []
  },
  {
   "cell_type": "code",
   "execution_count": null,
   "id": "65641695",
   "metadata": {},
   "outputs": [],
   "source": []
  }
 ],
 "metadata": {
  "kernelspec": {
   "display_name": "Python 3 (ipykernel)",
   "language": "python",
   "name": "python3"
  },
  "language_info": {
   "codemirror_mode": {
    "name": "ipython",
    "version": 3
   },
   "file_extension": ".py",
   "mimetype": "text/x-python",
   "name": "python",
   "nbconvert_exporter": "python",
   "pygments_lexer": "ipython3",
   "version": "3.9.13"
  }
 },
 "nbformat": 4,
 "nbformat_minor": 5
}
