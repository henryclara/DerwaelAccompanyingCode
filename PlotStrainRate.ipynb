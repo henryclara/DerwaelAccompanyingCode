{
 "cells": [
  {
   "cell_type": "code",
   "execution_count": 1,
   "id": "f1ba05ab",
   "metadata": {},
   "outputs": [],
   "source": [
    "import pandas as pd\n",
    "import numpy as np\n",
    "import math as maths\n",
    "import matplotlib.pyplot as plt\n",
    "from matplotlib.patches import ConnectionPatch\n",
    "from matplotlib.patches import FancyArrow\n",
    "import scipy.interpolate\n",
    "import netCDF4 as nc\n",
    "import xarray as xr\n",
    "import scipy.ndimage\n",
    "import scipy as sp\n",
    "import alphashape\n",
    "from numpy.linalg import eig\n",
    "from matplotlib import ticker, cm\n",
    "from scipy import interpolate\n",
    "from shapely.geometry import Point\n",
    "from shapely.geometry.polygon import Polygon\n",
    "from matplotlib import style\n",
    "from pathlib import Path  \n",
    "style.use('default') or plt.style.use('default')\n",
    "import seaborn as sns\n"
   ]
  },
  {
   "cell_type": "code",
   "execution_count": 2,
   "id": "b867bb6f",
   "metadata": {},
   "outputs": [
    {
     "ename": "FileNotFoundError",
     "evalue": "[Errno 2] No such file or directory: '../Simulations/CurrentTests/BasalFriction2e7StrainRate/StrainRate.csv'",
     "output_type": "error",
     "traceback": [
      "\u001b[0;31m---------------------------------------------------------------------------\u001b[0m",
      "\u001b[0;31mFileNotFoundError\u001b[0m                         Traceback (most recent call last)",
      "\u001b[0;32m/var/folders/7m/lgqxn0610bs8sxwnf4k6z_hw0000gn/T/ipykernel_49131/3318827264.py\u001b[0m in \u001b[0;36m<cell line: 5>\u001b[0;34m()\u001b[0m\n\u001b[1;32m      3\u001b[0m \u001b[0;31m# E11, E22, E33, E12, E23, E31, Eii (trace)\u001b[0m\u001b[0;34m\u001b[0m\u001b[0;34m\u001b[0m\u001b[0m\n\u001b[1;32m      4\u001b[0m \u001b[0;34m\u001b[0m\u001b[0m\n\u001b[0;32m----> 5\u001b[0;31m \u001b[0mSurfStrainRate\u001b[0m \u001b[0;34m=\u001b[0m \u001b[0mpd\u001b[0m\u001b[0;34m.\u001b[0m\u001b[0mread_csv\u001b[0m\u001b[0;34m(\u001b[0m\u001b[0;34m'../Simulations/CurrentTests/BasalFriction2e7StrainRate/StrainRate.csv'\u001b[0m\u001b[0;34m,\u001b[0m \u001b[0msep\u001b[0m\u001b[0;34m=\u001b[0m\u001b[0;34m\",\"\u001b[0m\u001b[0;34m)\u001b[0m\u001b[0;34m\u001b[0m\u001b[0;34m\u001b[0m\u001b[0m\n\u001b[0m",
      "\u001b[0;32m~/opt/anaconda3/lib/python3.9/site-packages/pandas/util/_decorators.py\u001b[0m in \u001b[0;36mwrapper\u001b[0;34m(*args, **kwargs)\u001b[0m\n\u001b[1;32m    309\u001b[0m                     \u001b[0mstacklevel\u001b[0m\u001b[0;34m=\u001b[0m\u001b[0mstacklevel\u001b[0m\u001b[0;34m,\u001b[0m\u001b[0;34m\u001b[0m\u001b[0;34m\u001b[0m\u001b[0m\n\u001b[1;32m    310\u001b[0m                 )\n\u001b[0;32m--> 311\u001b[0;31m             \u001b[0;32mreturn\u001b[0m \u001b[0mfunc\u001b[0m\u001b[0;34m(\u001b[0m\u001b[0;34m*\u001b[0m\u001b[0margs\u001b[0m\u001b[0;34m,\u001b[0m \u001b[0;34m**\u001b[0m\u001b[0mkwargs\u001b[0m\u001b[0;34m)\u001b[0m\u001b[0;34m\u001b[0m\u001b[0;34m\u001b[0m\u001b[0m\n\u001b[0m\u001b[1;32m    312\u001b[0m \u001b[0;34m\u001b[0m\u001b[0m\n\u001b[1;32m    313\u001b[0m         \u001b[0;32mreturn\u001b[0m \u001b[0mwrapper\u001b[0m\u001b[0;34m\u001b[0m\u001b[0;34m\u001b[0m\u001b[0m\n",
      "\u001b[0;32m~/opt/anaconda3/lib/python3.9/site-packages/pandas/io/parsers/readers.py\u001b[0m in \u001b[0;36mread_csv\u001b[0;34m(filepath_or_buffer, sep, delimiter, header, names, index_col, usecols, squeeze, prefix, mangle_dupe_cols, dtype, engine, converters, true_values, false_values, skipinitialspace, skiprows, skipfooter, nrows, na_values, keep_default_na, na_filter, verbose, skip_blank_lines, parse_dates, infer_datetime_format, keep_date_col, date_parser, dayfirst, cache_dates, iterator, chunksize, compression, thousands, decimal, lineterminator, quotechar, quoting, doublequote, escapechar, comment, encoding, encoding_errors, dialect, error_bad_lines, warn_bad_lines, on_bad_lines, delim_whitespace, low_memory, memory_map, float_precision, storage_options)\u001b[0m\n\u001b[1;32m    678\u001b[0m     \u001b[0mkwds\u001b[0m\u001b[0;34m.\u001b[0m\u001b[0mupdate\u001b[0m\u001b[0;34m(\u001b[0m\u001b[0mkwds_defaults\u001b[0m\u001b[0;34m)\u001b[0m\u001b[0;34m\u001b[0m\u001b[0;34m\u001b[0m\u001b[0m\n\u001b[1;32m    679\u001b[0m \u001b[0;34m\u001b[0m\u001b[0m\n\u001b[0;32m--> 680\u001b[0;31m     \u001b[0;32mreturn\u001b[0m \u001b[0m_read\u001b[0m\u001b[0;34m(\u001b[0m\u001b[0mfilepath_or_buffer\u001b[0m\u001b[0;34m,\u001b[0m \u001b[0mkwds\u001b[0m\u001b[0;34m)\u001b[0m\u001b[0;34m\u001b[0m\u001b[0;34m\u001b[0m\u001b[0m\n\u001b[0m\u001b[1;32m    681\u001b[0m \u001b[0;34m\u001b[0m\u001b[0m\n\u001b[1;32m    682\u001b[0m \u001b[0;34m\u001b[0m\u001b[0m\n",
      "\u001b[0;32m~/opt/anaconda3/lib/python3.9/site-packages/pandas/io/parsers/readers.py\u001b[0m in \u001b[0;36m_read\u001b[0;34m(filepath_or_buffer, kwds)\u001b[0m\n\u001b[1;32m    573\u001b[0m \u001b[0;34m\u001b[0m\u001b[0m\n\u001b[1;32m    574\u001b[0m     \u001b[0;31m# Create the parser.\u001b[0m\u001b[0;34m\u001b[0m\u001b[0;34m\u001b[0m\u001b[0m\n\u001b[0;32m--> 575\u001b[0;31m     \u001b[0mparser\u001b[0m \u001b[0;34m=\u001b[0m \u001b[0mTextFileReader\u001b[0m\u001b[0;34m(\u001b[0m\u001b[0mfilepath_or_buffer\u001b[0m\u001b[0;34m,\u001b[0m \u001b[0;34m**\u001b[0m\u001b[0mkwds\u001b[0m\u001b[0;34m)\u001b[0m\u001b[0;34m\u001b[0m\u001b[0;34m\u001b[0m\u001b[0m\n\u001b[0m\u001b[1;32m    576\u001b[0m \u001b[0;34m\u001b[0m\u001b[0m\n\u001b[1;32m    577\u001b[0m     \u001b[0;32mif\u001b[0m \u001b[0mchunksize\u001b[0m \u001b[0;32mor\u001b[0m \u001b[0miterator\u001b[0m\u001b[0;34m:\u001b[0m\u001b[0;34m\u001b[0m\u001b[0;34m\u001b[0m\u001b[0m\n",
      "\u001b[0;32m~/opt/anaconda3/lib/python3.9/site-packages/pandas/io/parsers/readers.py\u001b[0m in \u001b[0;36m__init__\u001b[0;34m(self, f, engine, **kwds)\u001b[0m\n\u001b[1;32m    932\u001b[0m \u001b[0;34m\u001b[0m\u001b[0m\n\u001b[1;32m    933\u001b[0m         \u001b[0mself\u001b[0m\u001b[0;34m.\u001b[0m\u001b[0mhandles\u001b[0m\u001b[0;34m:\u001b[0m \u001b[0mIOHandles\u001b[0m \u001b[0;34m|\u001b[0m \u001b[0;32mNone\u001b[0m \u001b[0;34m=\u001b[0m \u001b[0;32mNone\u001b[0m\u001b[0;34m\u001b[0m\u001b[0;34m\u001b[0m\u001b[0m\n\u001b[0;32m--> 934\u001b[0;31m         \u001b[0mself\u001b[0m\u001b[0;34m.\u001b[0m\u001b[0m_engine\u001b[0m \u001b[0;34m=\u001b[0m \u001b[0mself\u001b[0m\u001b[0;34m.\u001b[0m\u001b[0m_make_engine\u001b[0m\u001b[0;34m(\u001b[0m\u001b[0mf\u001b[0m\u001b[0;34m,\u001b[0m \u001b[0mself\u001b[0m\u001b[0;34m.\u001b[0m\u001b[0mengine\u001b[0m\u001b[0;34m)\u001b[0m\u001b[0;34m\u001b[0m\u001b[0;34m\u001b[0m\u001b[0m\n\u001b[0m\u001b[1;32m    935\u001b[0m \u001b[0;34m\u001b[0m\u001b[0m\n\u001b[1;32m    936\u001b[0m     \u001b[0;32mdef\u001b[0m \u001b[0mclose\u001b[0m\u001b[0;34m(\u001b[0m\u001b[0mself\u001b[0m\u001b[0;34m)\u001b[0m\u001b[0;34m:\u001b[0m\u001b[0;34m\u001b[0m\u001b[0;34m\u001b[0m\u001b[0m\n",
      "\u001b[0;32m~/opt/anaconda3/lib/python3.9/site-packages/pandas/io/parsers/readers.py\u001b[0m in \u001b[0;36m_make_engine\u001b[0;34m(self, f, engine)\u001b[0m\n\u001b[1;32m   1216\u001b[0m             \u001b[0;31m# \"Union[str, PathLike[str], ReadCsvBuffer[bytes], ReadCsvBuffer[str]]\"\u001b[0m\u001b[0;34m\u001b[0m\u001b[0;34m\u001b[0m\u001b[0m\n\u001b[1;32m   1217\u001b[0m             \u001b[0;31m# , \"str\", \"bool\", \"Any\", \"Any\", \"Any\", \"Any\", \"Any\"\u001b[0m\u001b[0;34m\u001b[0m\u001b[0;34m\u001b[0m\u001b[0m\n\u001b[0;32m-> 1218\u001b[0;31m             self.handles = get_handle(  # type: ignore[call-overload]\n\u001b[0m\u001b[1;32m   1219\u001b[0m                 \u001b[0mf\u001b[0m\u001b[0;34m,\u001b[0m\u001b[0;34m\u001b[0m\u001b[0;34m\u001b[0m\u001b[0m\n\u001b[1;32m   1220\u001b[0m                 \u001b[0mmode\u001b[0m\u001b[0;34m,\u001b[0m\u001b[0;34m\u001b[0m\u001b[0;34m\u001b[0m\u001b[0m\n",
      "\u001b[0;32m~/opt/anaconda3/lib/python3.9/site-packages/pandas/io/common.py\u001b[0m in \u001b[0;36mget_handle\u001b[0;34m(path_or_buf, mode, encoding, compression, memory_map, is_text, errors, storage_options)\u001b[0m\n\u001b[1;32m    784\u001b[0m         \u001b[0;32mif\u001b[0m \u001b[0mioargs\u001b[0m\u001b[0;34m.\u001b[0m\u001b[0mencoding\u001b[0m \u001b[0;32mand\u001b[0m \u001b[0;34m\"b\"\u001b[0m \u001b[0;32mnot\u001b[0m \u001b[0;32min\u001b[0m \u001b[0mioargs\u001b[0m\u001b[0;34m.\u001b[0m\u001b[0mmode\u001b[0m\u001b[0;34m:\u001b[0m\u001b[0;34m\u001b[0m\u001b[0;34m\u001b[0m\u001b[0m\n\u001b[1;32m    785\u001b[0m             \u001b[0;31m# Encoding\u001b[0m\u001b[0;34m\u001b[0m\u001b[0;34m\u001b[0m\u001b[0m\n\u001b[0;32m--> 786\u001b[0;31m             handle = open(\n\u001b[0m\u001b[1;32m    787\u001b[0m                 \u001b[0mhandle\u001b[0m\u001b[0;34m,\u001b[0m\u001b[0;34m\u001b[0m\u001b[0;34m\u001b[0m\u001b[0m\n\u001b[1;32m    788\u001b[0m                 \u001b[0mioargs\u001b[0m\u001b[0;34m.\u001b[0m\u001b[0mmode\u001b[0m\u001b[0;34m,\u001b[0m\u001b[0;34m\u001b[0m\u001b[0;34m\u001b[0m\u001b[0m\n",
      "\u001b[0;31mFileNotFoundError\u001b[0m: [Errno 2] No such file or directory: '../Simulations/CurrentTests/BasalFriction2e7StrainRate/StrainRate.csv'"
     ]
    }
   ],
   "source": [
    "# Read in surface strain rate data\n",
    "\n",
    "# E11, E22, E33, E12, E23, E31, Eii (trace)\n",
    "\n",
    "SurfStrainRate = pd.read_csv('../Simulations/CurrentTests/BasalFriction2e7StrainRate/StrainRate.csv', sep=\",\")\n"
   ]
  },
  {
   "cell_type": "code",
   "execution_count": null,
   "id": "ea59a61f",
   "metadata": {},
   "outputs": [],
   "source": [
    "\n",
    "\n"
   ]
  },
  {
   "cell_type": "code",
   "execution_count": null,
   "id": "2678a4df",
   "metadata": {},
   "outputs": [],
   "source": [
    "# Create a regular grid and interpolate the data onto it\n",
    "\n",
    "xmin, xmax = min(SurfStrainRate['Points:0']), max(SurfStrainRate['Points:0'])\n",
    "ymin, ymax = min(SurfStrainRate['Points:1']), max(SurfStrainRate['Points:1'])\n",
    "dist = 100\n",
    "nx, ny = int((xmax - xmin)/dist + 1), int((ymax - ymin)/dist + 1)\n",
    "x = np.linspace(xmin, xmax, nx)\n",
    "y = np.linspace(ymin, ymax, ny)\n",
    "grid_x, grid_y = np.meshgrid(x, y)\n",
    "\n",
    "E11 = scipy.interpolate.griddata((SurfStrainRate[\"Points:0\"], SurfStrainRate[\"Points:1\"]), SurfStrainRate[\"strainrate 1\"], (grid_x, grid_y), method='linear')\n",
    "E22 = scipy.interpolate.griddata((SurfStrainRate[\"Points:0\"], SurfStrainRate[\"Points:1\"]), SurfStrainRate[\"strainrate 2\"], (grid_x, grid_y), method='linear')\n",
    "E33 = scipy.interpolate.griddata((SurfStrainRate[\"Points:0\"], SurfStrainRate[\"Points:1\"]), SurfStrainRate[\"strainrate 3\"], (grid_x, grid_y), method='linear')\n",
    "E12 = scipy.interpolate.griddata((SurfStrainRate[\"Points:0\"], SurfStrainRate[\"Points:1\"]), SurfStrainRate[\"strainrate 4\"], (grid_x, grid_y), method='linear')\n",
    "E23 = scipy.interpolate.griddata((SurfStrainRate[\"Points:0\"], SurfStrainRate[\"Points:1\"]), SurfStrainRate[\"strainrate 5\"], (grid_x, grid_y), method='linear')\n",
    "E31 = scipy.interpolate.griddata((SurfStrainRate[\"Points:0\"], SurfStrainRate[\"Points:1\"]), SurfStrainRate[\"strainrate 6\"], (grid_x, grid_y), method='linear')\n",
    "Eii = scipy.interpolate.griddata((SurfStrainRate[\"Points:0\"], SurfStrainRate[\"Points:1\"]), SurfStrainRate[\"strainrate 7\"], (grid_x, grid_y), method='linear')\n"
   ]
  },
  {
   "cell_type": "code",
   "execution_count": null,
   "id": "72a1c8b8",
   "metadata": {},
   "outputs": [],
   "source": [
    "# Calculate the eigenvalues and eigenvectors of the strain rate for the surface.\n",
    "# Later also do this for the isochrones\n",
    "\n",
    "def Eigs(exx, eyy, exy):\n",
    "    v11 = np.zeros_like(exx) # First component of the first vector\n",
    "    v12 = np.zeros_like(exx) # Second component of the first vector\n",
    "    v21 = np.zeros_like(exx) # First component of the second vector\n",
    "    v22 = np.zeros_like(exx) # Second component of the second vector\n",
    "    e1 = np.zeros_like(exx)\n",
    "    e2 = np.zeros_like(exx)\n",
    "    I = len(exx)\n",
    "    J = len(exx[0])\n",
    "    for i in range(1, I-1):\n",
    "        for j in range(1, J-1):\n",
    "            if ((maths.isnan(exx[i][j])) or (maths.isnan(eyy[i][j])) or (maths.isnan(exy[i][j]))):\n",
    "                e1[i][j], e2[i][j] = np.nan, np.nan\n",
    "                v11[i][j], v12[i][j] = np.nan, np.nan\n",
    "                v21[i][j], v22[i][j] = np.nan, np.nan\n",
    "            else:\n",
    "                arr = np.array([[exx[i][j], exy[i][j]], \n",
    "                                [exy[i][j], eyy[i][j]]])\n",
    "                w,v = eig(arr)\n",
    "                e1[i][j], e2[i][j] = w\n",
    "                v11[i][j], v12[i][j] = v[0]\n",
    "                v21[i][j], v22[i][j] = v[1]\n",
    "    return e1, e2, v11, v12, v21, v22\n",
    "\n",
    "e1_1, e2_1, v11_1, v12_1, v21_1, v22_1 = Eigs(E11, E22, E12)\n",
    "\n"
   ]
  },
  {
   "cell_type": "code",
   "execution_count": null,
   "id": "1e882aad",
   "metadata": {},
   "outputs": [],
   "source": [
    "# Make an array of the eigenvector/value corresponding with the largest eigenvalue\n",
    "\n",
    "def MinMaxEigs(e1, e2, v11, v12, v21, v22):\n",
    "    e_min = np.zeros_like(e1)\n",
    "    e_max = np.zeros_like(e1)\n",
    "    v1_min = np.zeros_like(e1)\n",
    "    v2_min = np.zeros_like(e1)\n",
    "    v1_max = np.zeros_like(e1)\n",
    "    v2_max = np.zeros_like(e1)\n",
    "    I = len(e1)\n",
    "    J = len(e1[0])\n",
    "    for i in range(1, I-1):\n",
    "        for j in range(1, J-1):\n",
    "            if e1[i][j] > e2[i][j]:\n",
    "                e_min[i][j] = e2[i][j]\n",
    "                e_max[i][j] = e1[i][j]\n",
    "                v1_min[i][j] = v21[i][j]\n",
    "                v2_min[i][j] = v22[i][j]\n",
    "                v1_max[i][j] = v11[i][j]\n",
    "                v2_max[i][j] = v12[i][j]\n",
    "            else:\n",
    "                e_min[i][j] = e1[i][j]\n",
    "                e_max[i][j] = e2[i][j]\n",
    "                v1_min[i][j] = v11[i][j]\n",
    "                v2_min[i][j] = v12[i][j]\n",
    "                v1_max[i][j] = v21[i][j]\n",
    "                v2_max[i][j] = v22[i][j]\n",
    "#    for i in range(1, I-1):\n",
    "#        for j in range(1, J-1):\n",
    "#            if v2_min[i][j] < 0:\n",
    "#                v1_min[i][j] = - v1_min[i][j]\n",
    "#                v2_min[i][j] = - v2_min[i][j]\n",
    "#                v1_max[i][j] = - v1_max[i][j]\n",
    "#                v2_max[i][j] = - v2_max[i][j]\n",
    "    return e_min, e_max, v1_min, v2_min, v1_max, v2_max\n",
    "\n",
    "e_min_1, e_max_1, v1_min_1, v2_min_1, v1_max_1, v2_max_1 = MinMaxEigs(e1_1, e2_1, v11_1, v12_1, v21_1, v22_1)\n"
   ]
  },
  {
   "cell_type": "code",
   "execution_count": null,
   "id": "72b5ce24",
   "metadata": {},
   "outputs": [],
   "source": [
    "e_min_1"
   ]
  },
  {
   "cell_type": "code",
   "execution_count": null,
   "id": "eeaf08f5",
   "metadata": {},
   "outputs": [],
   "source": [
    "e_max_1"
   ]
  },
  {
   "cell_type": "code",
   "execution_count": null,
   "id": "d494063c",
   "metadata": {},
   "outputs": [],
   "source": [
    "# Calculate the strain rate magnitude\n",
    "\n",
    "def StrainMag(exx, eyy):\n",
    "    e_total = np.zeros_like(exx)\n",
    "    I = len(exx)\n",
    "    J = len(exx[0])\n",
    "    for i in range(1, I-1):\n",
    "        for j in range(1, J-1):\n",
    "            e_total[i][j] = (exx[i][j] + eyy[i][j])/2\n",
    "    return e_total\n",
    "\n",
    "e_total_1 = StrainMag(E11, E22)"
   ]
  },
  {
   "cell_type": "code",
   "execution_count": null,
   "id": "e492cd58",
   "metadata": {},
   "outputs": [],
   "source": [
    "# Make two copies of the strain rate data and \n",
    "# Load in grounding line and make two copies of the data: inside and outside grounding line\n",
    "\n",
    "dfGL = pd.read_csv(\"../Data/GroundingLine.csv\")\n",
    "\n",
    "points = np.column_stack((list(dfGL[\"Points:0\"])[::10], list(dfGL[\"Points:1\"])[::10]))\n",
    "\n",
    "# [list(dfGL[\"Points:0\"]), list(dfGL[\"Points:1\"])]\n",
    "alpha = 0.95 * alphashape.optimizealpha(points)\n",
    "hull = alphashape.alphashape(points, alpha)\n",
    "hull_pts = hull.exterior.coords.xy\n",
    "\n",
    "poly = Polygon(zip(list(hull_pts[0]), list(hull_pts[1])))\n",
    "\n",
    "e_max_1_in = e_max_1.copy()\n",
    "e_max_1_out = e_max_1.copy()\n",
    "\n",
    "\n",
    "poly"
   ]
  },
  {
   "cell_type": "code",
   "execution_count": null,
   "id": "9cb7412a",
   "metadata": {},
   "outputs": [],
   "source": [
    "for i in range(len(e_max_1)):\n",
    "    for j in range(len(e_max_1[0])):\n",
    "        boolean = poly.contains(Point(grid_x[i][j], grid_y[i][j]))\n",
    "        if boolean == False:\n",
    "            e_max_1_in[i][j] = np.nan\n",
    "            E33[i][j] = np.nan\n",
    "#            v1_max_1 = np.nan\n",
    "#            v2_max_1 = np.nan\n",
    "        if boolean == True:\n",
    "            e_max_1_out[i][j] = np.nan\n",
    "            "
   ]
  },
  {
   "cell_type": "code",
   "execution_count": null,
   "id": "842036fc",
   "metadata": {},
   "outputs": [],
   "source": [
    "# Plot the magnitude of the larger eigenvalue\n",
    "\n",
    "fig, ax = plt.subplots(1, 1, figsize=(10, 8))\n",
    "#levels1 = np.linspace(0.01, 0.002, 500)\n",
    "levels2 = np.linspace(-0.003, 0.0, 500)\n",
    "CS = ax.contourf(grid_x, grid_y, E33, levels=levels2, cmap=plt.cm.Spectral, style=\"sci\", extend='both')\n",
    "#CS1 = ax.contourf(grid_x, grid_y, e_max_1_in, levels=levels1, cmap=plt.cm.GnBu, extend='max', style=\"sci\")\n",
    "#CS2 = ax.contourf(grid_x, grid_y, e_max_1_out, levels=levels2, cmap=plt.cm.YlOrRd, extend='max', style=\"sci\")\n",
    "skip = (slice(None, None, 15), slice(None, None, 15))\n",
    "#strm = ax.streamplot(grid_x[skip], grid_y[skip], v1_max_1[skip], v2_max_1[skip], density=[5, 5],\\\n",
    "#                     linewidth=0.5, arrowsize=0, color='black')\n",
    "ax.quiver(grid_x[skip], grid_y[skip], v1_max_1[skip], v2_max_1[skip], scale=50, pivot='mid', headlength=0, headwidth=1)\n",
    "#ax.plot(dfGL['Points:0'], dfGL['Points:1'], color='black')\n",
    "ax.set_xlabel(r'$x$ [km]', size=20)\n",
    "ax.set_ylabel(r'$y$ [km]', size=20)\n",
    "ax.set_xlim([940000, 985000])\n",
    "ax.set_ylim([1910000, 1960000])\n",
    "cbar = fig.colorbar(CS)\n",
    "cbar.set_label('Principal strain rate [a$^{-1}$]', size=20)\n",
    "#fig.savefig('DerwaelStrainRate.jpg', format='jpg', dpi=700, bbox_inches = \"tight\")\n"
   ]
  },
  {
   "cell_type": "code",
   "execution_count": null,
   "id": "f646d7f5",
   "metadata": {},
   "outputs": [],
   "source": [
    "type(grid_x)"
   ]
  },
  {
   "cell_type": "code",
   "execution_count": null,
   "id": "032b0737",
   "metadata": {},
   "outputs": [],
   "source": [
    "# Plot the magnitude of the larger eigenvalue\n",
    "\n",
    "fig, ax = plt.subplots(1, 1, figsize=(10, 8))\n",
    "#levels1 = np.linspace(0.01, 0.002, 500)\n",
    "levels2 = np.linspace(0.0, 0.01, 500)\n",
    "CS = ax.contourf(grid_x, grid_y, e_max_1, levels=levels2, locator=ticker.LogLocator(), cmap=plt.cm.GnBu, extend='max', style=\"sci\")\n",
    "#CS1 = ax.contourf(grid_x, grid_y, e_max_1_in, levels=levels1, cmap=plt.cm.GnBu, extend='max', style=\"sci\")\n",
    "#CS2 = ax.contourf(grid_x, grid_y, e_max_1_out, levels=levels2, cmap=plt.cm.YlOrRd, extend='max', style=\"sci\")\n",
    "skip = (slice(None, None, 15), slice(None, None, 15))\n",
    "#strm = ax.streamplot(grid_x[skip], grid_y[skip], v1_max_1[skip], v2_max_1[skip], density=[5, 5],\\\n",
    "#                     linewidth=0.5, arrowsize=0, color='black')\n",
    "ax.quiver(grid_x[skip], grid_y[skip], v1_max_1[skip], v2_max_1[skip], scale=50, pivot='mid', headlength=0, headwidth=1)\n",
    "#ax.plot(dfGL['Points:0'], dfGL['Points:1'], color='black')\n",
    "ax.set_xlabel(r'$x$ [km]', size=20)\n",
    "ax.set_ylabel(r'$y$ [km]', size=20)\n",
    "ax.set_xlim([940000, 985000])\n",
    "ax.set_ylim([1910000, 1960000])\n",
    "cbar = fig.colorbar(CS)\n",
    "cbar.set_label('Principal strain rate [a$^{-1}$]', size=20)\n",
    "#fig.savefig('DerwaelStrainRate.jpg', format='jpg', dpi=700, bbox_inches = \"tight\")\n"
   ]
  },
  {
   "cell_type": "code",
   "execution_count": null,
   "id": "c685cfa4",
   "metadata": {},
   "outputs": [],
   "source": [
    "# Plot the magnitude of the larger eigenvalue\n",
    "\n",
    "fig, ax = plt.subplots(1, 1, figsize=(10, 8))\n",
    "#levels1 = np.linspace(0.01, 0.002, 500)\n",
    "levels2 = np.linspace(0.0, 0.015, 500)\n",
    "CS = ax.contourf(grid_x, grid_y, e_max_1, levels=levels2, locator=ticker.LogLocator(), cmap=plt.cm.GnBu, extend='max', style=\"sci\")\n",
    "#CS1 = ax.contourf(grid_x, grid_y, e_max_1_in, levels=levels1, cmap=plt.cm.GnBu, extend='max', style=\"sci\")\n",
    "#CS2 = ax.contourf(grid_x, grid_y, e_max_1_out, levels=levels2, cmap=plt.cm.YlOrRd, extend='max', style=\"sci\")\n",
    "skip = (slice(None, None, 15), slice(None, None, 15))\n",
    "#strm = ax.streamplot(grid_x[skip], grid_y[skip], v1_max_1[skip], v2_max_1[skip], density=[5, 5],\\\n",
    "#                     linewidth=0.5, arrowsize=0, color='black')\n",
    "ax.quiver(grid_x[skip], grid_y[skip], v1_max_1[skip], v2_max_1[skip], scale=50, pivot='mid', headlength=0, headwidth=1)\n",
    "#ax.plot(dfGL['Points:0'], dfGL['Points:1'], color='black')\n",
    "ax.set_xlabel(r'$x$ [km]', size=20)\n",
    "ax.set_ylabel(r'$y$ [km]', size=20)\n",
    "ax.set_xlim([940000, 985000])\n",
    "ax.set_ylim([1910000, 1960000])\n",
    "cbar = fig.colorbar(CS)\n",
    "cbar.set_label('Principal strain rate [a$^{-1}$]', size=20)\n",
    "#fig.savefig('DerwaelStrainRate.jpg', format='jpg', dpi=700, bbox_inches = \"tight\")\n"
   ]
  },
  {
   "cell_type": "code",
   "execution_count": null,
   "id": "3c4e7aa4",
   "metadata": {},
   "outputs": [],
   "source": [
    "# Plot the magnitude of the larger eigenvalue\n",
    "\n",
    "fig, ax = plt.subplots(1, 1, figsize=(10, 8))\n",
    "#levels1 = np.linspace(0.01, 0.002, 500)\n",
    "levels2 = np.linspace(0.0, 0.02, 500)\n",
    "CS = ax.contourf(grid_x, grid_y, e_max_1, levels=levels2, locator=ticker.LogLocator(), cmap=plt.cm.GnBu, extend='max', style=\"sci\")\n",
    "#CS1 = ax.contourf(grid_x, grid_y, e_max_1_in, levels=levels1, cmap=plt.cm.GnBu, extend='max', style=\"sci\")\n",
    "#CS2 = ax.contourf(grid_x, grid_y, e_max_1_out, levels=levels2, cmap=plt.cm.YlOrRd, extend='max', style=\"sci\")\n",
    "skip = (slice(None, None, 15), slice(None, None, 15))\n",
    "#strm = ax.streamplot(grid_x[skip], grid_y[skip], v1_max_1[skip], v2_max_1[skip], density=[5, 5],\\\n",
    "#                     linewidth=0.5, arrowsize=0, color='black')\n",
    "ax.quiver(grid_x[skip], grid_y[skip], v1_max_1[skip], v2_max_1[skip], scale=50, pivot='mid', headlength=0, headwidth=1)\n",
    "#ax.plot(dfGL['Points:0'], dfGL['Points:1'], color='black')\n",
    "ax.set_xlabel(r'$x$ [km]', size=20)\n",
    "ax.set_ylabel(r'$y$ [km]', size=20)\n",
    "ax.set_xlim([940000, 985000])\n",
    "ax.set_ylim([1910000, 1960000])\n",
    "cbar = fig.colorbar(CS)\n",
    "cbar.set_label('Principal strain rate [a$^{-1}$]', size=20)\n",
    "fig.savefig('DerwaelStrainRate.jpg', format='jpg', dpi=700, bbox_inches = \"tight\")\n"
   ]
  },
  {
   "cell_type": "code",
   "execution_count": null,
   "id": "0075a19a",
   "metadata": {},
   "outputs": [],
   "source": [
    "# Plot the magnitude of the larger eigenvalue\n",
    "\n",
    "fig, ax = plt.subplots(1, 1, figsize=(10, 8))\n",
    "#levels1 = np.linspace(0.01, 0.002, 500)\n",
    "levels2 = np.linspace(0.0001, 0.02, 500)\n",
    "CS = ax.contourf(grid_x, grid_y, e_max_1, levels=levels2, locator=ticker.LogLocator(), cmap=plt.cm.plasma_r, extend='both', style=\"sci\")\n",
    "\n",
    "#plasma_r\n",
    "\n",
    "#CS1 = ax.contourf(grid_x, grid_y, e_max_1_in, levels=levels1, cmap=plt.cm.GnBu, extend='max', style=\"sci\")\n",
    "#CS2 = ax.contourf(grid_x, grid_y, e_max_1_out, levels=levels2, cmap=plt.cm.YlOrRd, extend='max', style=\"sci\")\n",
    "skip = (slice(None, None, 15), slice(None, None, 15))\n",
    "#strm = ax.streamplot(grid_x[skip], grid_y[skip], v1_max_1[skip], v2_max_1[skip], density=[5, 5],\\\n",
    "#                     linewidth=0.5, arrowsize=0, color='black')\n",
    "ax.quiver(grid_x[skip], grid_y[skip], v1_max_1[skip], v2_max_1[skip], scale=50, pivot='mid', headlength=0, headwidth=1)\n",
    "#ax.plot(dfGL['Points:0'], dfGL['Points:1'], color='black')\n",
    "ax.set_xlabel(r'$x$ [km]', size=20)\n",
    "ax.set_ylabel(r'$y$ [km]', size=20)\n",
    "ax.set_xlim([940000, 985000])\n",
    "ax.set_ylim([1910000, 1960000])\n",
    "cbar = fig.colorbar(CS)\n",
    "cbar.set_label('Principal strain rate [a$^{-1}$]', size=20)\n",
    "#fig.savefig('DerwaelStrainRate.jpg', format='jpg', dpi=700, bbox_inches = \"tight\")\n"
   ]
  },
  {
   "cell_type": "raw",
   "id": "bf5a9579",
   "metadata": {},
   "source": [
    "# Plot the magnitude of the larger eigenvalue\n",
    "\n",
    "fig, ax = plt.subplots(1, 1, figsize=(10, 8))\n",
    "levels2 = np.linspace(0.0, 0.025, 500)\n",
    "#CS = ax.contourf(grid_x, grid_y, e_max_1, cmap=plt.cm.GnBu, extend='max', style=\"sci\")\n",
    "CS = ax.contourf(grid_x, grid_y, e_max_1, levels=levels2, cmap=plt.cm.GnBu, extend='max', style=\"sci\")\n",
    "skip = (slice(None, None, 15), slice(None, None, 15))\n",
    "#strm = ax.streamplot(grid_x[skip], grid_y[skip], v1_max_1[skip], v2_max_1[skip], density=[5, 5],\\\n",
    "#                     linewidth=0.5, arrowsize=0, color='black')\n",
    "ax.quiver(grid_x[skip], grid_y[skip], v1_max_1[skip], v2_max_1[skip], scale=50, pivot='mid', headlength=0, headwidth=1)\n",
    "ax.plot(data_GL_reduced['X'], data_GL_reduced['Y'], color='black')\n",
    "ax.set_xlabel(r'$x$ [km]', size=20)\n",
    "ax.set_ylabel(r'$y$ [km]', size=20)\n",
    "ax.set_xlim([940000, 985000])\n",
    "ax.set_ylim([1910000, 1960000])\n",
    "cbar = fig.colorbar(CS)\n",
    "cbar.set_label('Principal strain rate [a$^{-1}$]', size=20)\n",
    "#fig.savefig('DerwaelStrainRate.jpg', format='jpg', dpi=700, bbox_inches = \"tight\")\n"
   ]
  },
  {
   "cell_type": "code",
   "execution_count": 6,
   "id": "3e6e95fc",
   "metadata": {},
   "outputs": [
    {
     "name": "stderr",
     "output_type": "stream",
     "text": [
      "/var/folders/7m/lgqxn0610bs8sxwnf4k6z_hw0000gn/T/ipykernel_49131/2177416956.py:3: DeprecationWarning: Please use `rotate` from the `scipy.ndimage` namespace, the `scipy.ndimage.interpolation` namespace is deprecated.\n",
      "  scipy.ndimage.interpolation.rotate(a2D, 90, axes=(1, 0))\n"
     ]
    },
    {
     "data": {
      "text/plain": [
       "array([[0, 1],\n",
       "       [1, 0]])"
      ]
     },
     "execution_count": 6,
     "metadata": {},
     "output_type": "execute_result"
    }
   ],
   "source": [
    "a2D = np.array([[1, 0], [0, 1]])\n",
    "\n",
    "scipy.ndimage.interpolation.rotate(a2D, 90, axes=(1, 0))\n"
   ]
  },
  {
   "cell_type": "code",
   "execution_count": null,
   "id": "5b4a8ae1",
   "metadata": {},
   "outputs": [],
   "source": []
  },
  {
   "cell_type": "code",
   "execution_count": null,
   "id": "a1bd4bec",
   "metadata": {},
   "outputs": [],
   "source": []
  },
  {
   "cell_type": "code",
   "execution_count": null,
   "id": "a1a2f402",
   "metadata": {},
   "outputs": [],
   "source": []
  },
  {
   "cell_type": "code",
   "execution_count": null,
   "id": "d50723a7",
   "metadata": {},
   "outputs": [],
   "source": []
  },
  {
   "cell_type": "code",
   "execution_count": null,
   "id": "8ea80b9e",
   "metadata": {},
   "outputs": [],
   "source": []
  },
  {
   "cell_type": "code",
   "execution_count": null,
   "id": "e8791adf",
   "metadata": {},
   "outputs": [],
   "source": []
  }
 ],
 "metadata": {
  "kernelspec": {
   "display_name": "Python 3 (ipykernel)",
   "language": "python",
   "name": "python3"
  },
  "language_info": {
   "codemirror_mode": {
    "name": "ipython",
    "version": 3
   },
   "file_extension": ".py",
   "mimetype": "text/x-python",
   "name": "python",
   "nbconvert_exporter": "python",
   "pygments_lexer": "ipython3",
   "version": "3.9.13"
  }
 },
 "nbformat": 4,
 "nbformat_minor": 5
}
